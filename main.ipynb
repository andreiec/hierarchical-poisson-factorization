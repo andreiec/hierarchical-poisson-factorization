{
 "cells": [
  {
   "cell_type": "code",
   "execution_count": 86,
   "metadata": {},
   "outputs": [],
   "source": [
    "import pandas as pd\n",
    "import pymc as pm\n",
    "import numpy as np\n",
    "import os\n",
    "\n",
    "from sklearn.model_selection import train_test_split\n",
    "\n",
    "os.environ[\"PATH\"] += os.pathsep + 'C:\\Program Files\\Graphviz\\\\bin'"
   ]
  },
  {
   "cell_type": "code",
   "execution_count": 87,
   "metadata": {},
   "outputs": [],
   "source": [
    "df_raw = pd.read_csv('./data/beer_reviews.csv')\n",
    "df_raw['is_duplicate'] = df_raw.duplicated(['review_profilename', 'beer_beerid'], keep='first')\n",
    "df_raw = df_raw[df_raw['is_duplicate'] == False].drop(columns=['is_duplicate']).reset_index(drop=True)"
   ]
  },
  {
   "cell_type": "code",
   "execution_count": 88,
   "metadata": {},
   "outputs": [],
   "source": [
    "top_100_reviewers = df_raw['review_profilename'].value_counts().head(100).index\n",
    "top_100_beers = df_raw[df_raw['review_profilename'].isin(top_100_reviewers)]['beer_beerid'].value_counts().head(100).index"
   ]
  },
  {
   "cell_type": "code",
   "execution_count": 89,
   "metadata": {},
   "outputs": [],
   "source": [
    "df = df_raw[(df_raw['beer_beerid'].isin(top_100_beers)) & (df_raw['review_profilename'].isin(top_100_reviewers))].reset_index(drop=True)\n",
    "df = df[['review_profilename', 'beer_beerid', 'review_overall']]\n",
    "df = df.rename(columns={'review_profilename': 'user_id', 'beer_beerid': 'beer_id', 'review_overall': 'review'})"
   ]
  },
  {
   "cell_type": "code",
   "execution_count": 90,
   "metadata": {},
   "outputs": [],
   "source": [
    "df['review'] = (df['review'] * 2 - 1).apply(int)\n",
    "df['user_id'] = df['user_id'].astype('category').cat.codes.apply(int)\n",
    "df['beer_id'] = df['beer_id'].astype('category').cat.codes.apply(int)"
   ]
  },
  {
   "cell_type": "code",
   "execution_count": 114,
   "metadata": {},
   "outputs": [],
   "source": [
    "num_users = df['user_id'].nunique()\n",
    "num_beers = df['beer_id'].nunique()\n",
    "num_categories = 20\n",
    "num_samples = 1000\n",
    "num_burnin = 800\n",
    "num_chains = 4\n",
    "num_cores = 4\n",
    "num_recommend = 5\n",
    "\n",
    "a = c = 0.30\n",
    "a_prime = c_prime = 0.30\n",
    "b_prime = d_prime = 0.15"
   ]
  },
  {
   "cell_type": "code",
   "execution_count": 104,
   "metadata": {},
   "outputs": [],
   "source": [
    "observed_ratings = np.zeros((num_users, num_beers))"
   ]
  },
  {
   "cell_type": "code",
   "execution_count": 105,
   "metadata": {},
   "outputs": [],
   "source": [
    "df_train, df_test = train_test_split(df, test_size=0.2)"
   ]
  },
  {
   "cell_type": "code",
   "execution_count": 106,
   "metadata": {},
   "outputs": [],
   "source": [
    "for _, row in df_train.iterrows():\n",
    "    observed_ratings[row['user_id']][row['beer_id']] = row['review']"
   ]
  },
  {
   "cell_type": "code",
   "execution_count": 107,
   "metadata": {},
   "outputs": [],
   "source": [
    "with pm.Model() as model:\n",
    "    xi = pm.Gamma('xi', alpha=a_prime, beta=a_prime/b_prime, shape=(num_users, 1))\n",
    "    theta = pm.Gamma('theta', alpha=a, beta=xi, shape=(num_users, num_categories))\n",
    "    eta = pm.Gamma('eta', alpha=c_prime, beta=c_prime/d_prime, shape=(num_beers, 1))\n",
    "    beta = pm.Gamma('beta', alpha=c, beta=eta, shape=(num_beers, num_categories))\n",
    "\n",
    "    y_ui = pm.Poisson('y_ui', mu=pm.math.dot(theta, beta.T), observed=observed_ratings)"
   ]
  },
  {
   "cell_type": "code",
   "execution_count": 108,
   "metadata": {},
   "outputs": [
    {
     "name": "stderr",
     "output_type": "stream",
     "text": [
      "Auto-assigning NUTS sampler...\n",
      "Initializing NUTS using jitter+adapt_diag...\n",
      "Multiprocess sampling (4 chains in 4 jobs)\n",
      "NUTS: [xi, theta, eta, beta]\n"
     ]
    },
    {
     "data": {
      "text/html": [
       "\n",
       "<style>\n",
       "    /* Turns off some styling */\n",
       "    progress {\n",
       "        /* gets rid of default border in Firefox and Opera. */\n",
       "        border: none;\n",
       "        /* Needs to be in here for Safari polyfill so background images work as expected. */\n",
       "        background-size: auto;\n",
       "    }\n",
       "    progress:not([value]), progress:not([value])::-webkit-progress-bar {\n",
       "        background: repeating-linear-gradient(45deg, #7e7e7e, #7e7e7e 10px, #5c5c5c 10px, #5c5c5c 20px);\n",
       "    }\n",
       "    .progress-bar-interrupted, .progress-bar-interrupted::-webkit-progress-bar {\n",
       "        background: #F44336;\n",
       "    }\n",
       "</style>\n"
      ],
      "text/plain": [
       "<IPython.core.display.HTML object>"
      ]
     },
     "metadata": {},
     "output_type": "display_data"
    },
    {
     "data": {
      "text/html": [
       "\n",
       "    <div>\n",
       "      <progress value='7200' class='' max='7200' style='width:300px; height:20px; vertical-align: middle;'></progress>\n",
       "      100.00% [7200/7200 38:14&lt;00:00 Sampling 4 chains, 0 divergences]\n",
       "    </div>\n",
       "    "
      ],
      "text/plain": [
       "<IPython.core.display.HTML object>"
      ]
     },
     "metadata": {},
     "output_type": "display_data"
    },
    {
     "name": "stderr",
     "output_type": "stream",
     "text": [
      "Sampling 4 chains for 800 tune and 1_000 draw iterations (3_200 + 4_000 draws total) took 2310 seconds.\n"
     ]
    }
   ],
   "source": [
    "# Fit the model\n",
    "with model:\n",
    "    # trace = pm.sample(1000, tune=1000, chains=1, cores=8, nuts={'target_accept': 0.9})\n",
    "    #step = pm.Metropolis()\n",
    "    trace = pm.sample(num_samples, tune=num_burnin, chains=num_chains, cores=num_cores, nuts={'target_accept': 0.9}) #, step=step)"
   ]
  },
  {
   "cell_type": "code",
   "execution_count": 109,
   "metadata": {},
   "outputs": [],
   "source": [
    "# Extract theta and beta samples\n",
    "theta_samples = np.concatenate([sublist for sublist in trace['posterior']['theta']], axis=0)\n",
    "beta_samples = np.concatenate([sublist for sublist in trace['posterior']['beta']], axis=0)"
   ]
  },
  {
   "cell_type": "code",
   "execution_count": 110,
   "metadata": {},
   "outputs": [],
   "source": [
    "def makePredictions(t_samples, b_samples, data):\n",
    "    prediction_matrix = np.zeros((num_users, num_beers))\n",
    "\n",
    "    len_samples = t_samples.shape[0]\n",
    "\n",
    "    for _, row in data.iterrows():\n",
    "        user_id = int(row['user_id'])\n",
    "        beer_id = int(row['beer_id'])\n",
    "        ratings = []\n",
    "\n",
    "        for i in range(len_samples):\n",
    "            rating = np.dot(t_samples[i][user_id], b_samples[i][beer_id].T)\n",
    "            ratings.append(rating)\n",
    "\n",
    "        prediction_matrix[user_id][beer_id] = np.mean(ratings)\n",
    "    \n",
    "    return prediction_matrix"
   ]
  },
  {
   "cell_type": "code",
   "execution_count": 111,
   "metadata": {},
   "outputs": [],
   "source": [
    "def RMSE(predictions, data):\n",
    "    total_error = 0\n",
    "\n",
    "    for _, row in data.iterrows():\n",
    "        user_id = int(row['user_id'])\n",
    "        beer_id = int(row['beer_id'])\n",
    "\n",
    "        predicted_rating = predictions[user_id][beer_id]\n",
    "        error = (predicted_rating - row['review']) ** 2\n",
    "        total_error += error\n",
    "    \n",
    "    return np.sqrt(total_error / data.shape[0])"
   ]
  },
  {
   "cell_type": "code",
   "execution_count": 112,
   "metadata": {},
   "outputs": [],
   "source": [
    "def oneOffAcc(predictions, data):\n",
    "    correct = 0\n",
    "\n",
    "    for _, row in data.iterrows():\n",
    "        if abs(predictions[row['user_id']][row['beer_id']] - row['review']) <= 1:\n",
    "            correct += 1\n",
    "    \n",
    "    return correct / data.shape[0]"
   ]
  },
  {
   "cell_type": "code",
   "execution_count": 115,
   "metadata": {},
   "outputs": [
    {
     "name": "stdout",
     "output_type": "stream",
     "text": [
      "RMSE(prediction_ratings_train, df_train)=1.3552688875158467, oneOffAcc(prediction_ratings_train, df_train)=0.49025686448184236\n"
     ]
    }
   ],
   "source": [
    "prediction_ratings_train = makePredictions(theta_samples, beta_samples, df_train)\n",
    "print(f'{RMSE(prediction_ratings_train, df_train)=}, {oneOffAcc(prediction_ratings_train, df_train)=}')"
   ]
  },
  {
   "cell_type": "code",
   "execution_count": 116,
   "metadata": {},
   "outputs": [
    {
     "name": "stdout",
     "output_type": "stream",
     "text": [
      "RMSE(prediction_ratings, df_test)=4.931532961809268, oneOffAcc(prediction_ratings, df_test)=0.005312868949232586\n"
     ]
    }
   ],
   "source": [
    "prediction_ratings = makePredictions(theta_samples, beta_samples, df_test)\n",
    "print(f'{RMSE(prediction_ratings, df_test)=}, {oneOffAcc(prediction_ratings, df_test)=}')"
   ]
  },
  {
   "cell_type": "code",
   "execution_count": 56,
   "metadata": {},
   "outputs": [],
   "source": [
    "def makeRecommandations(t_samples, b_samples, data):\n",
    "    users = data['user_id'].unique()\n",
    "    beers = data['beer_id'].unique()\n",
    "    len_samples = theta_samples.shape[0]\n",
    "    recommandations = []\n",
    "\n",
    "    for user_id in users:\n",
    "        beer_ratings = []\n",
    "\n",
    "        for beer_id in beers:\n",
    "            ratings = []\n",
    "\n",
    "            for i in range(len_samples):\n",
    "                rating = np.dot(t_samples[i][user_id], b_samples[i][beer_id].T)\n",
    "                ratings.append(rating)\n",
    "\n",
    "            beer_ratings.append((beer_id, np.mean(ratings)))\n",
    "        \n",
    "        beer_ratings = sorted(beer_ratings, key=lambda x: x[1], reverse=True)\n",
    "        recommandations.append((user_id, [r[0] for r in beer_ratings[:5]]))\n",
    "\n",
    "    return recommandations"
   ]
  },
  {
   "cell_type": "code",
   "execution_count": 44,
   "metadata": {},
   "outputs": [],
   "source": [
    "recommandations = makeRecommandations(theta_samples, beta_samples, df_train)"
   ]
  },
  {
   "cell_type": "code",
   "execution_count": 45,
   "metadata": {},
   "outputs": [],
   "source": [
    "recommandations = pd.DataFrame(recommandations)\n",
    "recommandations.columns = ['user_id', 'Recommandations']"
   ]
  },
  {
   "cell_type": "code",
   "execution_count": 46,
   "metadata": {},
   "outputs": [
    {
     "data": {
      "text/html": [
       "<div>\n",
       "<style scoped>\n",
       "    .dataframe tbody tr th:only-of-type {\n",
       "        vertical-align: middle;\n",
       "    }\n",
       "\n",
       "    .dataframe tbody tr th {\n",
       "        vertical-align: top;\n",
       "    }\n",
       "\n",
       "    .dataframe thead th {\n",
       "        text-align: right;\n",
       "    }\n",
       "</style>\n",
       "<table border=\"1\" class=\"dataframe\">\n",
       "  <thead>\n",
       "    <tr style=\"text-align: right;\">\n",
       "      <th></th>\n",
       "      <th>user_id</th>\n",
       "      <th>Recommandations</th>\n",
       "    </tr>\n",
       "  </thead>\n",
       "  <tbody>\n",
       "    <tr>\n",
       "      <th>0</th>\n",
       "      <td>78</td>\n",
       "      <td>[44, 36, 67, 60, 42]</td>\n",
       "    </tr>\n",
       "    <tr>\n",
       "      <th>1</th>\n",
       "      <td>56</td>\n",
       "      <td>[50, 33, 37, 48, 13]</td>\n",
       "    </tr>\n",
       "    <tr>\n",
       "      <th>2</th>\n",
       "      <td>96</td>\n",
       "      <td>[47, 23, 11, 31, 28]</td>\n",
       "    </tr>\n",
       "    <tr>\n",
       "      <th>3</th>\n",
       "      <td>12</td>\n",
       "      <td>[37, 43, 48, 96, 97]</td>\n",
       "    </tr>\n",
       "    <tr>\n",
       "      <th>4</th>\n",
       "      <td>66</td>\n",
       "      <td>[60, 96, 68, 48, 73]</td>\n",
       "    </tr>\n",
       "    <tr>\n",
       "      <th>5</th>\n",
       "      <td>5</td>\n",
       "      <td>[67, 75, 48, 80, 73]</td>\n",
       "    </tr>\n",
       "    <tr>\n",
       "      <th>6</th>\n",
       "      <td>89</td>\n",
       "      <td>[34, 14, 27, 11, 0]</td>\n",
       "    </tr>\n",
       "    <tr>\n",
       "      <th>7</th>\n",
       "      <td>45</td>\n",
       "      <td>[30, 73, 44, 56, 96]</td>\n",
       "    </tr>\n",
       "    <tr>\n",
       "      <th>8</th>\n",
       "      <td>1</td>\n",
       "      <td>[51, 47, 67, 43, 56]</td>\n",
       "    </tr>\n",
       "    <tr>\n",
       "      <th>9</th>\n",
       "      <td>62</td>\n",
       "      <td>[98, 19, 85, 96, 78]</td>\n",
       "    </tr>\n",
       "  </tbody>\n",
       "</table>\n",
       "</div>"
      ],
      "text/plain": [
       "   user_id       Recommandations\n",
       "0       78  [44, 36, 67, 60, 42]\n",
       "1       56  [50, 33, 37, 48, 13]\n",
       "2       96  [47, 23, 11, 31, 28]\n",
       "3       12  [37, 43, 48, 96, 97]\n",
       "4       66  [60, 96, 68, 48, 73]\n",
       "5        5  [67, 75, 48, 80, 73]\n",
       "6       89   [34, 14, 27, 11, 0]\n",
       "7       45  [30, 73, 44, 56, 96]\n",
       "8        1  [51, 47, 67, 43, 56]\n",
       "9       62  [98, 19, 85, 96, 78]"
      ]
     },
     "execution_count": 46,
     "metadata": {},
     "output_type": "execute_result"
    }
   ],
   "source": [
    "recommandations.head(10)"
   ]
  }
 ],
 "metadata": {
  "kernelspec": {
   "display_name": "venv",
   "language": "python",
   "name": "python3"
  },
  "language_info": {
   "codemirror_mode": {
    "name": "ipython",
    "version": 3
   },
   "file_extension": ".py",
   "mimetype": "text/x-python",
   "name": "python",
   "nbconvert_exporter": "python",
   "pygments_lexer": "ipython3",
   "version": "3.11.6"
  }
 },
 "nbformat": 4,
 "nbformat_minor": 2
}
