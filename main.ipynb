{
 "cells": [
  {
   "cell_type": "code",
   "execution_count": 94,
   "metadata": {},
   "outputs": [],
   "source": [
    "import pandas as pd\n",
    "import pymc as pm\n",
    "import numpy as np\n",
    "import os\n",
    "\n",
    "from sklearn.model_selection import train_test_split\n",
    "\n",
    "os.environ[\"PATH\"] += os.pathsep + 'C:\\Program Files\\Graphviz\\\\bin'"
   ]
  },
  {
   "cell_type": "code",
   "execution_count": 3,
   "metadata": {},
   "outputs": [],
   "source": [
    "# Read and clean the data\n",
    "df_reviews = pd.read_csv('./data/tourism_rating.csv')\n",
    "df_reviews['User_Id'] = df_reviews['User_Id'] - 1\n",
    "df_reviews['Place_Id'] = df_reviews['Place_Id'] - 1"
   ]
  },
  {
   "cell_type": "code",
   "execution_count": null,
   "metadata": {},
   "outputs": [],
   "source": [
    "# Sanity_check (Users from 0-9 and places with the following id)\n",
    "place_ids = [87, 207, 3, 165, 320, 201, 300, 29, 104, 66]\n",
    "\n",
    "df = df_reviews[(df_reviews['User_Id'] < 10) & (df_reviews['Place_Id'].isin(place_ids))]\n",
    "df['Place_Id'] = df.groupby(['Place_Id']).ngroup()\n",
    "\n",
    "df = df.reset_index(drop=True)"
   ]
  },
  {
   "cell_type": "code",
   "execution_count": 4,
   "metadata": {},
   "outputs": [],
   "source": [
    "# Sanity check 2\n",
    "df = df_reviews[(df_reviews['User_Id'] < 120) & (df_reviews['Place_Id'] < 100)]"
   ]
  },
  {
   "cell_type": "code",
   "execution_count": 33,
   "metadata": {},
   "outputs": [],
   "source": [
    "num_users = df['User_Id'].nunique()\n",
    "num_places = df['Place_Id'].nunique()\n",
    "num_categories = 20\n",
    "num_samples = 1000\n",
    "num_burnin = 800\n",
    "num_chains = 4\n",
    "num_cores = 4\n",
    "num_recommend = 5"
   ]
  },
  {
   "cell_type": "code",
   "execution_count": 6,
   "metadata": {},
   "outputs": [],
   "source": [
    "# Make constraints\n",
    "observed_ratings = np.zeros((num_users, num_places))"
   ]
  },
  {
   "cell_type": "code",
   "execution_count": 7,
   "metadata": {},
   "outputs": [],
   "source": [
    "df_train, df_test = train_test_split(df, test_size=0.2)"
   ]
  },
  {
   "cell_type": "code",
   "execution_count": 8,
   "metadata": {},
   "outputs": [],
   "source": [
    "for _, row in df_train.iterrows():\n",
    "    observed_ratings[row['User_Id']][row['Place_Id']] = row['Place_Ratings']"
   ]
  },
  {
   "cell_type": "code",
   "execution_count": 9,
   "metadata": {},
   "outputs": [],
   "source": [
    "a = c = 0.15\n",
    "a_prime = c_prime = 0.30\n",
    "b_prime = d_prime = 0.15"
   ]
  },
  {
   "cell_type": "code",
   "execution_count": 11,
   "metadata": {},
   "outputs": [],
   "source": [
    "with pm.Model() as model:\n",
    "\n",
    "    # User activity\n",
    "    xi = pm.Gamma('xi', alpha=a_prime, beta=a_prime/b_prime, shape=(num_users, 1))\n",
    "\n",
    "    # User preferences\n",
    "    theta = pm.Gamma('theta', alpha=a, beta=xi, shape=(num_users, num_categories))\n",
    "\n",
    "    # Place popularity\n",
    "    eta = pm.Gamma('eta', alpha=c_prime, beta=c_prime/d_prime, shape=(num_places, 1))\n",
    "\n",
    "    # Place attributes\n",
    "    beta = pm.Gamma('beta', alpha=c, beta=eta, shape=(num_places, num_categories))\n",
    "\n",
    "    # Ratings\n",
    "    y_ui = pm.Poisson('y_ui', mu=pm.math.dot(theta, beta.T), observed=observed_ratings)"
   ]
  },
  {
   "cell_type": "code",
   "execution_count": 12,
   "metadata": {},
   "outputs": [
    {
     "name": "stderr",
     "output_type": "stream",
     "text": [
      "Auto-assigning NUTS sampler...\n",
      "Initializing NUTS using jitter+adapt_diag...\n",
      "Multiprocess sampling (4 chains in 4 jobs)\n",
      "NUTS: [xi, theta, eta, beta]\n"
     ]
    },
    {
     "data": {
      "text/html": [
       "\n",
       "<style>\n",
       "    /* Turns off some styling */\n",
       "    progress {\n",
       "        /* gets rid of default border in Firefox and Opera. */\n",
       "        border: none;\n",
       "        /* Needs to be in here for Safari polyfill so background images work as expected. */\n",
       "        background-size: auto;\n",
       "    }\n",
       "    progress:not([value]), progress:not([value])::-webkit-progress-bar {\n",
       "        background: repeating-linear-gradient(45deg, #7e7e7e, #7e7e7e 10px, #5c5c5c 10px, #5c5c5c 20px);\n",
       "    }\n",
       "    .progress-bar-interrupted, .progress-bar-interrupted::-webkit-progress-bar {\n",
       "        background: #F44336;\n",
       "    }\n",
       "</style>\n"
      ],
      "text/plain": [
       "<IPython.core.display.HTML object>"
      ]
     },
     "metadata": {},
     "output_type": "display_data"
    },
    {
     "data": {
      "text/html": [
       "\n",
       "    <div>\n",
       "      <progress value='7200' class='' max='7200' style='width:300px; height:20px; vertical-align: middle;'></progress>\n",
       "      100.00% [7200/7200 03:41&lt;00:00 Sampling 4 chains, 7 divergences]\n",
       "    </div>\n",
       "    "
      ],
      "text/plain": [
       "<IPython.core.display.HTML object>"
      ]
     },
     "metadata": {},
     "output_type": "display_data"
    },
    {
     "name": "stderr",
     "output_type": "stream",
     "text": [
      "Sampling 4 chains for 800 tune and 1_000 draw iterations (3_200 + 4_000 draws total) took 237 seconds.\n"
     ]
    }
   ],
   "source": [
    "# Fit the model\n",
    "with model:\n",
    "    # trace = pm.sample(1000, tune=1000, chains=1, cores=8, nuts={'target_accept': 0.9})\n",
    "    step = pm.Metropolis()\n",
    "    trace = pm.sample(num_samples, tune=num_burnin, chains=num_chains, cores=num_cores, step=step)"
   ]
  },
  {
   "cell_type": "code",
   "execution_count": 13,
   "metadata": {},
   "outputs": [],
   "source": [
    "# Extract theta and beta samples\n",
    "theta_samples = np.concatenate([sublist for sublist in trace['posterior']['theta']], axis=0)\n",
    "beta_samples = np.concatenate([sublist for sublist in trace['posterior']['beta']], axis=0)"
   ]
  },
  {
   "cell_type": "code",
   "execution_count": 35,
   "metadata": {},
   "outputs": [],
   "source": [
    "def makePredictions(t_samples, b_samples, data):\n",
    "    prediction_matrix = np.zeros((num_users, num_places))\n",
    "\n",
    "    len_samples = t_samples.shape[0]\n",
    "\n",
    "    for _, row in data.iterrows():\n",
    "        user_id = int(row['User_Id'])\n",
    "        place_id = int(row['Place_Id'])\n",
    "        ratings = []\n",
    "\n",
    "        for i in range(len_samples):\n",
    "            rating = np.dot(t_samples[i][user_id], b_samples[i][place_id].T)\n",
    "            ratings.append(rating)\n",
    "\n",
    "        prediction_matrix[user_id][place_id] = np.mean(ratings)\n",
    "    \n",
    "    return prediction_matrix"
   ]
  },
  {
   "cell_type": "code",
   "execution_count": 83,
   "metadata": {},
   "outputs": [],
   "source": [
    "def RMSE(predictions, data):\n",
    "    total_error = 0\n",
    "\n",
    "    for _, row in data.iterrows():\n",
    "        user_id = int(row['User_Id'])\n",
    "        place_id = int(row['Place_Id'])\n",
    "\n",
    "        predicted_rating = predictions[user_id][place_id]\n",
    "        error = (predicted_rating - row['Place_Ratings'] + 1) ** 2\n",
    "        total_error += error\n",
    "    \n",
    "    return np.sqrt(total_error / data.shape[0])"
   ]
  },
  {
   "cell_type": "code",
   "execution_count": 86,
   "metadata": {},
   "outputs": [],
   "source": [
    "def oneOffAcc(predictions, data):\n",
    "    correct = 0\n",
    "\n",
    "    for _, row in data.iterrows():\n",
    "        if abs(predictions[row['User_Id']][row['Place_Id']] - row['Place_Ratings'] + 1) <= 1:\n",
    "            correct += 1\n",
    "    \n",
    "    return correct / data.shape[0]"
   ]
  },
  {
   "cell_type": "code",
   "execution_count": 92,
   "metadata": {},
   "outputs": [
    {
     "name": "stdout",
     "output_type": "stream",
     "text": [
      "RMSE(prediction_ratings_train, df_train)=1.4884457711336077, oneOffAcc(prediction_ratings_train, df_train)=0.5095108695652174\n"
     ]
    }
   ],
   "source": [
    "prediction_ratings_train = makePredictions(theta_samples, beta_samples, df_train)\n",
    "print(f'{RMSE(prediction_ratings_train, df_train)=}, {oneOffAcc(prediction_ratings_train, df_train)=}')"
   ]
  },
  {
   "cell_type": "code",
   "execution_count": 93,
   "metadata": {},
   "outputs": [
    {
     "name": "stdout",
     "output_type": "stream",
     "text": [
      "RMSE(prediction_ratings, df_test)=2.3573479064728398, oneOffAcc(prediction_ratings, df_test)=0.32432432432432434\n"
     ]
    }
   ],
   "source": [
    "prediction_ratings = makePredictions(theta_samples, beta_samples, df_test)\n",
    "print(f'{RMSE(prediction_ratings, df_test)=}, {oneOffAcc(prediction_ratings, df_test)=}')"
   ]
  },
  {
   "cell_type": "code",
   "execution_count": 70,
   "metadata": {},
   "outputs": [],
   "source": [
    "def makeRecommandations(t_samples, b_samples, data):\n",
    "    users = data['User_Id'].unique()\n",
    "    places = data['Place_Id'].unique()\n",
    "    len_samples = theta_samples.shape[0]\n",
    "    recommandations = []\n",
    "\n",
    "    for user_id in users:\n",
    "        place_ratings = []\n",
    "\n",
    "        for place_id in places:\n",
    "            ratings = []\n",
    "\n",
    "            for i in range(len_samples):\n",
    "                rating = np.dot(t_samples[i][user_id], b_samples[i][place_id].T)\n",
    "                ratings.append(rating)\n",
    "\n",
    "            place_ratings.append((place_id, np.mean(ratings)))\n",
    "        \n",
    "        place_ratings = sorted(place_ratings, key=lambda x: x[1], reverse=True)\n",
    "        recommandations.append((user_id, [r[0] for r in place_ratings[:5]]))\n",
    "\n",
    "    return recommandations"
   ]
  },
  {
   "cell_type": "code",
   "execution_count": 71,
   "metadata": {},
   "outputs": [],
   "source": [
    "recommandations = makeRecommandations(theta_samples, beta_samples, df_train)"
   ]
  },
  {
   "cell_type": "code",
   "execution_count": 74,
   "metadata": {},
   "outputs": [],
   "source": [
    "recommandations = pd.DataFrame(recommandations)\n",
    "recommandations.columns = ['User_Id', 'Recommandations']"
   ]
  },
  {
   "cell_type": "code",
   "execution_count": 77,
   "metadata": {},
   "outputs": [
    {
     "data": {
      "text/html": [
       "<div>\n",
       "<style scoped>\n",
       "    .dataframe tbody tr th:only-of-type {\n",
       "        vertical-align: middle;\n",
       "    }\n",
       "\n",
       "    .dataframe tbody tr th {\n",
       "        vertical-align: top;\n",
       "    }\n",
       "\n",
       "    .dataframe thead th {\n",
       "        text-align: right;\n",
       "    }\n",
       "</style>\n",
       "<table border=\"1\" class=\"dataframe\">\n",
       "  <thead>\n",
       "    <tr style=\"text-align: right;\">\n",
       "      <th></th>\n",
       "      <th>User_Id</th>\n",
       "      <th>Recommandations</th>\n",
       "    </tr>\n",
       "  </thead>\n",
       "  <tbody>\n",
       "    <tr>\n",
       "      <th>0</th>\n",
       "      <td>53</td>\n",
       "      <td>[15, 36, 23, 45, 46]</td>\n",
       "    </tr>\n",
       "    <tr>\n",
       "      <th>1</th>\n",
       "      <td>31</td>\n",
       "      <td>[78, 10, 1, 18, 75]</td>\n",
       "    </tr>\n",
       "    <tr>\n",
       "      <th>2</th>\n",
       "      <td>104</td>\n",
       "      <td>[68, 96, 0, 25, 85]</td>\n",
       "    </tr>\n",
       "    <tr>\n",
       "      <th>3</th>\n",
       "      <td>48</td>\n",
       "      <td>[79, 30, 48, 67, 40]</td>\n",
       "    </tr>\n",
       "    <tr>\n",
       "      <th>4</th>\n",
       "      <td>13</td>\n",
       "      <td>[66, 87, 49, 7, 53]</td>\n",
       "    </tr>\n",
       "    <tr>\n",
       "      <th>5</th>\n",
       "      <td>14</td>\n",
       "      <td>[66, 89, 22, 94, 8]</td>\n",
       "    </tr>\n",
       "    <tr>\n",
       "      <th>6</th>\n",
       "      <td>39</td>\n",
       "      <td>[20, 36, 62, 23, 48]</td>\n",
       "    </tr>\n",
       "    <tr>\n",
       "      <th>7</th>\n",
       "      <td>51</td>\n",
       "      <td>[52, 69, 85, 46, 99]</td>\n",
       "    </tr>\n",
       "    <tr>\n",
       "      <th>8</th>\n",
       "      <td>90</td>\n",
       "      <td>[32, 7, 75, 12, 53]</td>\n",
       "    </tr>\n",
       "    <tr>\n",
       "      <th>9</th>\n",
       "      <td>61</td>\n",
       "      <td>[48, 70, 46, 49, 45]</td>\n",
       "    </tr>\n",
       "  </tbody>\n",
       "</table>\n",
       "</div>"
      ],
      "text/plain": [
       "   User_Id       Recommandations\n",
       "0       53  [15, 36, 23, 45, 46]\n",
       "1       31   [78, 10, 1, 18, 75]\n",
       "2      104   [68, 96, 0, 25, 85]\n",
       "3       48  [79, 30, 48, 67, 40]\n",
       "4       13   [66, 87, 49, 7, 53]\n",
       "5       14   [66, 89, 22, 94, 8]\n",
       "6       39  [20, 36, 62, 23, 48]\n",
       "7       51  [52, 69, 85, 46, 99]\n",
       "8       90   [32, 7, 75, 12, 53]\n",
       "9       61  [48, 70, 46, 49, 45]"
      ]
     },
     "execution_count": 77,
     "metadata": {},
     "output_type": "execute_result"
    }
   ],
   "source": [
    "recommandations.head(10)"
   ]
  }
 ],
 "metadata": {
  "kernelspec": {
   "display_name": "venv",
   "language": "python",
   "name": "python3"
  },
  "language_info": {
   "codemirror_mode": {
    "name": "ipython",
    "version": 3
   },
   "file_extension": ".py",
   "mimetype": "text/x-python",
   "name": "python",
   "nbconvert_exporter": "python",
   "pygments_lexer": "ipython3",
   "version": "3.11.6"
  }
 },
 "nbformat": 4,
 "nbformat_minor": 2
}
